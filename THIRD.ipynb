{
 "cells": [
  {
   "cell_type": "markdown",
   "id": "0d511ad5",
   "metadata": {},
   "source": [
    "# 第三题"
   ]
  },
  {
   "cell_type": "code",
   "execution_count": null,
   "id": "3acf5498",
   "metadata": {},
   "outputs": [],
   "source": [
    "import numpy as np\n",
    "import pandas as pd\n",
    "import os\n",
    "\n",
    "def load_data(folder):\n",
    "    def read(name):\n",
    "        return pd.read_csv(os.path.join(folder, name), header=None).values\n",
    "\n",
    "    return {\n",
    "        \"R_R\": read(\"R_R.csv\"),\n",
    "        \"R_G\": read(\"R_G.csv\"),\n",
    "        \"R_B\": read(\"R_B.csv\"),\n",
    "        \"G_R\": read(\"G_R.csv\"),\n",
    "        \"G_G\": read(\"G_G.csv\"),\n",
    "        \"G_B\": read(\"G_B.csv\"),\n",
    "        \"B_R\": read(\"B_R.csv\"),\n",
    "        \"B_G\": read(\"B_G.csv\"),\n",
    "        \"B_B\": read(\"B_B.csv\"),\n",
    "    }\n",
    "\n",
    "def compute_correction_matrices(data):\n",
    "    H, W = data[\"R_R\"].shape\n",
    "    M_inv_all = np.zeros((H, W, 3, 3))  # 64x64x3x3\n",
    "    \n",
    "    input_vecs = np.array([\n",
    "        [220, 0, 0],\n",
    "        [0, 220, 0],\n",
    "        [0, 0, 220]\n",
    "    ])  # Shape: (3, 3)\n",
    "\n",
    "    A = input_vecs.T  # (3,3)\n",
    "\n",
    "    for i in range(H):\n",
    "        for j in range(W):\n",
    "            B = np.array([\n",
    "                [data[\"R_R\"][i,j], data[\"G_R\"][i,j], data[\"B_R\"][i,j]],\n",
    "                [data[\"R_G\"][i,j], data[\"G_G\"][i,j], data[\"B_G\"][i,j]],\n",
    "                [data[\"R_B\"][i,j], data[\"G_B\"][i,j], data[\"B_B\"][i,j]],\n",
    "            ])  # 3x3\n",
    "\n",
    "            try:\n",
    "                M = np.linalg.lstsq(A.T, B.T, rcond=None)[0].T  # A @ M = B → solve M\n",
    "                if np.linalg.det(M) == 0:\n",
    "                    M_inv = np.linalg.pinv(M)   # SVD pseudo-inverse\n",
    "                else:\n",
    "                    M_inv = np.linalg.inv(M)\n",
    "            except np.linalg.LinAlgError:\n",
    "                M_inv = np.eye(3)  # fallback\n",
    "\n",
    "            M_inv_all[i,j] = M_inv\n",
    "\n",
    "    return M_inv_all\n",
    "\n",
    "def apply_color_correction(img_data, M_inv_all):\n",
    "    H, W, _ = img_data.shape\n",
    "    corrected_img = np.zeros_like(img_data, dtype=np.float32)\n",
    "\n",
    "    for i in range(H):\n",
    "        for j in range(W):\n",
    "            inp = img_data[i,j]\n",
    "            M_inv = M_inv_all[i,j]\n",
    "            corrected_rgb = M_inv @ inp\n",
    "            corrected_img[i,j] = np.clip(corrected_rgb, 0, 255)\n",
    "\n",
    "    return corrected_img.astype(np.uint8)\n"
   ]
  }
 ],
 "metadata": {
  "kernelspec": {
   "display_name": "colour",
   "language": "python",
   "name": "python3"
  },
  "language_info": {
   "name": "python",
   "version": "3.10.16"
  }
 },
 "nbformat": 4,
 "nbformat_minor": 5
}
