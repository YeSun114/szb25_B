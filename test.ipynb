{
 "cells": [
  {
   "cell_type": "code",
   "execution_count": 1,
   "id": "de919d87",
   "metadata": {},
   "outputs": [
    {
     "name": "stdout",
     "output_type": "stream",
     "text": [
      "RGB (BT.2020) to Lab: [ 73.5014084  -16.91740536 -22.8309994 ]\n",
      "RGB (sRGB) to Lab: [ 71.00309322  -6.23502937 -20.62543564]\n",
      "Color difference ΔE: 7.5764\n"
     ]
    },
    {
     "name": "stderr",
     "output_type": "stream",
     "text": [
      "/home/flyingbucket/anaconda3/envs/colour/lib/python3.10/site-packages/colour/utilities/verbose.py:322: ColourUsageWarning: The \"colour.RGB_to_XYZ\" definition signature has changed with \"Colour 0.4.3\". The used call arguments are deprecated, please refer to the documentation for more information about the new signature.\n",
      "  warn(*args, **kwargs)  # noqa: B028\n"
     ]
    }
   ],
   "source": [
    "import numpy as np\n",
    "from colour import (\n",
    "    RGB_to_XYZ, XYZ_to_Lab, delta_E,\n",
    "    XYZ_to_RGB, RGB_COLOURSPACES\n",
    ")\n",
    "\n",
    "# 获取色彩空间\n",
    "bt2020 = RGB_COLOURSPACES[\"ITU-R BT.2020\"]\n",
    "srgb = RGB_COLOURSPACES[\"sRGB\"]\n",
    "\n",
    "# 假设你有一个 BT.2020 的 RGB 向量\n",
    "rgb_bt2020 = np.array([0.3, 0.5, 0.7])\n",
    "\n",
    "# RGB (BT2020) → XYZ → Lab\n",
    "xyz_bt2020 = RGB_to_XYZ(rgb_bt2020, bt2020.whitepoint, bt2020.whitepoint, bt2020.matrix_RGB_to_XYZ)\n",
    "lab_bt2020 = XYZ_to_Lab(xyz_bt2020, bt2020.whitepoint)\n",
    "\n",
    "# 假设你有个目标 sRGB 向量，做同样转换\n",
    "rgb_srgb = np.array([0.25, 0.45, 0.65])\n",
    "xyz_srgb = RGB_to_XYZ(rgb_srgb, srgb.whitepoint, srgb.whitepoint, srgb.matrix_RGB_to_XYZ)\n",
    "lab_srgb = XYZ_to_Lab(xyz_srgb, srgb.whitepoint)\n",
    "\n",
    "# 计算视觉色差 ΔE\n",
    "delta_e = delta_E(lab_bt2020, lab_srgb, method='CIE 2000')  # 或 'CIE 2000'\n",
    "print(f\"RGB (BT.2020) to Lab: {lab_bt2020}\")\n",
    "print(f\"RGB (sRGB) to Lab: {lab_srgb}\")\n",
    "print(f\"Color difference ΔE: {delta_e:.4f}\")\n"
   ]
  },
  {
   "cell_type": "code",
   "execution_count": 5,
   "id": "fecde663",
   "metadata": {},
   "outputs": [
    {
     "name": "stdout",
     "output_type": "stream",
     "text": [
      "(1000, 3)\n",
      "507 / 1000 colors are in sRGB gamut.\n"
     ]
    }
   ],
   "source": [
    "import numpy as np\n",
    "import colour\n",
    "\n",
    "# 获取 BT.2020 色彩空间对象\n",
    "bt2020 = colour.RGB_COLOURSPACES['ITU-R BT.2020']\n",
    "srgb = colour.RGB_COLOURSPACES['sRGB']\n",
    "\n",
    "# 随机采样 RGB（属于 BT.2020 空间的 RGB 向量）\n",
    "rgb_bt2020 = np.random.rand(1000, 3)\n",
    "print(rgb_bt2020.shape)\n",
    "\n",
    "# 将 RGB（BT.2020）转换为 XYZ\n",
    "xyz_bt2020 = colour.RGB_to_XYZ(\n",
    "    rgb_bt2020,\n",
    "    bt2020.whitepoint,\n",
    "    bt2020.whitepoint,\n",
    "    bt2020.matrix_RGB_to_XYZ\n",
    ")\n",
    "\n",
    "\n",
    "# 将 XYZ 转换为 sRGB 空间的 RGB\n",
    "rgb_srgb = colour.XYZ_to_RGB(\n",
    "    xyz_bt2020,\n",
    "    srgb.whitepoint,\n",
    "    srgb.whitepoint,\n",
    "    srgb.matrix_XYZ_to_RGB\n",
    ")\n",
    "\n",
    "# 可选：裁剪到 sRGB 显示范围 [0, 1]\n",
    "rgb_srgb_clipped = np.clip(rgb_srgb, 0, 1)\n",
    "\n",
    "# 检查有多少点本来就在 sRGB 色域内\n",
    "in_gamut = np.all((rgb_srgb >= 0) & (rgb_srgb <= 1), axis=1)\n",
    "print(f\"{np.sum(in_gamut)} / {len(rgb_srgb)} colors are in sRGB gamut.\")\n"
   ]
  },
  {
   "cell_type": "code",
   "execution_count": 7,
   "id": "2cca4312",
   "metadata": {},
   "outputs": [
    {
     "name": "stderr",
     "output_type": "stream",
     "text": [
      "/home/flyingbucket/anaconda3/envs/colour/lib/python3.10/site-packages/colour/utilities/verbose.py:322: ColourUsageWarning: The \"colour.XYZ_to_RGB\" definition signature has changed with \"Colour 0.4.3\". The used call arguments are deprecated, please refer to the documentation for more information about the new signature.\n",
      "  warn(*args, **kwargs)  # noqa: B028\n"
     ]
    },
    {
     "name": "stdout",
     "output_type": "stream",
     "text": [
      "Optimization success: True\n",
      "Optimized matrix M:\n",
      "[[ 0.47155694  0.42455763  0.06634467]\n",
      " [-0.11529328  1.07962905  0.02347739]\n",
      " [-0.0279814   0.14570931  0.86850686]]\n"
     ]
    }
   ],
   "source": [
    "from scipy.optimize import minimize, LinearConstraint, Bounds, NonlinearConstraint\n",
    "\n",
    "def objective(M_flat):\n",
    "    M = M_flat.reshape(3, 3)\n",
    "    xyz_srgb = (M @ xyz_bt2020.T).T  # Apply M\n",
    "    rgb_srgb = colour.XYZ_to_RGB(\n",
    "        xyz_srgb,\n",
    "        srgb.whitepoint,\n",
    "        srgb.whitepoint,\n",
    "        srgb.matrix_XYZ_to_RGB\n",
    "    )\n",
    "    lab_target = colour.XYZ_to_Lab(xyz_bt2020)\n",
    "    lab_result = colour.XYZ_to_Lab(xyz_srgb)\n",
    "    delta_E = colour.delta_E(lab_target, lab_result, method='CIE 2000')\n",
    "    return np.mean(delta_E)\n",
    "\n",
    "def gamut_constraint(M_flat):\n",
    "    M = M_flat.reshape(3, 3)\n",
    "    xyz_srgb = (M @ xyz_bt2020.T).T\n",
    "    rgb_srgb = colour.XYZ_to_RGB(\n",
    "        xyz_srgb,\n",
    "        srgb.whitepoint,\n",
    "        srgb.whitepoint,\n",
    "        srgb.matrix_XYZ_to_RGB\n",
    "    )\n",
    "    # 返回距离越界的最小 margin（负数代表不合法）\n",
    "    return np.min(np.minimum(rgb_srgb, 1 - rgb_srgb))\n",
    "\n",
    "# 初始猜测为单位矩阵\n",
    "M0 = np.eye(3).flatten()\n",
    "\n",
    "# 非线性约束：所有 RGB 分量必须 ∈ [0, 1]\n",
    "nonlinear_constraint = NonlinearConstraint(gamut_constraint, 0, np.inf)\n",
    "\n",
    "result = minimize(objective, M0, constraints=[nonlinear_constraint])\n",
    "print(f\"Optimization success: {result.success}\")\n",
    "print(f\"Optimized matrix M:\\n{result.x.reshape(3, 3)}\")\n"
   ]
  },
  {
   "cell_type": "markdown",
   "id": "3418134f",
   "metadata": {},
   "source": [
    "question 2"
   ]
  },
  {
   "cell_type": "markdown",
   "id": "bdaa8c0f",
   "metadata": {},
   "source": [
    "这段代码使用了scipy.optimize来进行约束优化,但是没有指定马蹄形比包,所以得到的色域覆盖面积较大但V通道基色是错误的\n"
   ]
  },
  {
   "cell_type": "code",
   "execution_count": null,
   "id": "9a9720a3",
   "metadata": {},
   "outputs": [
    {
     "name": "stdout",
     "output_type": "stream",
     "text": [
      "最佳第四通道基色xy：[ 1.  0.], 覆盖面积：0.33202449999999994\n"
     ]
    }
   ],
   "source": [
    "import numpy as np\n",
    "from scipy.optimize import minimize\n",
    "\n",
    "# BT.2020前三基色xy\n",
    "bt2020_xy = np.array([\n",
    "    [0.708, 0.292],  # R\n",
    "    [0.170, 0.797],  # G\n",
    "    [0.131, 0.046],  # B\n",
    "])\n",
    "\n",
    "def polygon_area(points):\n",
    "    x = points[:, 0]\n",
    "    y = points[:, 1]\n",
    "    return 0.5 * np.abs(np.dot(x, np.roll(y, 1)) - np.dot(y, np.roll(x, 1)))\n",
    "\n",
    "def objective(xy):\n",
    "    # 目标函数：负面积（因为 minimize 是最小化）\n",
    "    points = np.vstack([bt2020_xy, xy])\n",
    "    return -polygon_area(points)\n",
    "\n",
    "# 约束函数，确保点在 xy 色度图的有效区域内\n",
    "# CIE 1931 xy色度坐标的定义范围是0 <= x,y <= 1 且 x + y <= 1\n",
    "def constraint1(xy):\n",
    "    return xy[0]  # x >= 0\n",
    "\n",
    "def constraint2(xy):\n",
    "    return xy[1]  # y >= 0\n",
    "\n",
    "def constraint3(xy):\n",
    "    return 1 - xy[0] - xy[1]  # x + y <= 1\n",
    "\n",
    "# 边界条件\n",
    "bounds = [(0, 1), (0, 1)]\n",
    "\n",
    "# 约束\n",
    "constraints = [\n",
    "    {'type': 'ineq', 'fun': constraint1},\n",
    "    {'type': 'ineq', 'fun': constraint2},\n",
    "    {'type': 'ineq', 'fun': constraint3}\n",
    "]\n",
    "\n",
    "# 初始猜测\n",
    "x0 = np.array([0.3, 0.3])\n",
    "\n",
    "result = minimize(objective, x0, method='SLSQP', bounds=bounds, constraints=constraints)\n",
    "\n",
    "if result.success:\n",
    "    best_xy = result.x\n",
    "    best_area = -result.fun\n",
    "    print(f\"最佳第四通道基色xy：{best_xy}, 覆盖面积：{best_area}\")\n",
    "else:\n",
    "    print(\"优化失败:\", result.message)\n"
   ]
  },
  {
   "cell_type": "markdown",
   "id": "11df1cf4",
   "metadata": {},
   "source": [
    "第四通道基色的搜索算法,此处为暴力网格搜索,可以替换为scipy.optimize中的其他优化方法"
   ]
  },
  {
   "cell_type": "code",
   "execution_count": 10,
   "id": "fdaf96b4",
   "metadata": {},
   "outputs": [
    {
     "name": "stdout",
     "output_type": "stream",
     "text": [
      "最佳第四通道基色xy：(0.69999999999999996, 0.10000000000000001), 覆盖面积：0.26627449999999997\n"
     ]
    }
   ],
   "source": [
    "import numpy as np\n",
    "\n",
    "# BT.2020前三基色xy\n",
    "bt2020_xy = np.array([\n",
    "    [0.708, 0.292],  # R\n",
    "    [0.170, 0.797],  # G\n",
    "    [0.131, 0.046],  # B\n",
    "])\n",
    "\n",
    "def polygon_area(points):\n",
    "    # Shoelace formula for polygon area\n",
    "    x = points[:, 0]\n",
    "    y = points[:, 1]\n",
    "    return 0.5 * np.abs(np.dot(x, np.roll(y, 1)) - np.dot(y, np.roll(x, 1)))\n",
    "\n",
    "# 简单网格搜索示例（更高级可用优化算法）\n",
    "best_area = 0\n",
    "best_xy = None\n",
    "for x in np.linspace(0.1, 0.7, 100):\n",
    "    for y in np.linspace(0.1, 0.8, 100):\n",
    "        # 简单约束：y < 1 - x (保证点在xy三角形内，不一定完全对应色域边界)\n",
    "        if y < 1 - x:\n",
    "            points = np.vstack([bt2020_xy, [x, y]])\n",
    "            area = polygon_area(points)\n",
    "            if area > best_area:\n",
    "                best_area = area\n",
    "                best_xy = (x, y)\n",
    "\n",
    "print(f\"最佳第四通道基色xy：{best_xy}, 覆盖面积：{best_area}\")\n"
   ]
  },
  {
   "cell_type": "code",
   "execution_count": null,
   "id": "5fd231ea",
   "metadata": {},
   "outputs": [],
   "source": []
  }
 ],
 "metadata": {
  "kernelspec": {
   "display_name": "colour",
   "language": "python",
   "name": "python3"
  },
  "language_info": {
   "codemirror_mode": {
    "name": "ipython",
    "version": 3
   },
   "file_extension": ".py",
   "mimetype": "text/x-python",
   "name": "python",
   "nbconvert_exporter": "python",
   "pygments_lexer": "ipython3",
   "version": "3.10.17"
  }
 },
 "nbformat": 4,
 "nbformat_minor": 5
}
