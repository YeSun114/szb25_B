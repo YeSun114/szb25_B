{
 "cells": [
  {
   "cell_type": "code",
   "execution_count": 1,
   "id": "de919d87",
   "metadata": {},
   "outputs": [
    {
     "name": "stdout",
     "output_type": "stream",
     "text": [
      "RGB (BT.2020) to Lab: [ 73.5014084  -16.91740536 -22.8309994 ]\n",
      "RGB (sRGB) to Lab: [ 71.00309322  -6.23502937 -20.62543564]\n",
      "Color difference ΔE: 7.5764\n"
     ]
    },
    {
     "name": "stderr",
     "output_type": "stream",
     "text": [
      "/home/flyingbucket/anaconda3/envs/colour/lib/python3.10/site-packages/colour/utilities/verbose.py:322: ColourUsageWarning: The \"colour.RGB_to_XYZ\" definition signature has changed with \"Colour 0.4.3\". The used call arguments are deprecated, please refer to the documentation for more information about the new signature.\n",
      "  warn(*args, **kwargs)  # noqa: B028\n"
     ]
    }
   ],
   "source": [
    "import numpy as np\n",
    "from colour import (\n",
    "    RGB_to_XYZ, XYZ_to_Lab, delta_E,\n",
    "    XYZ_to_RGB, RGB_COLOURSPACES\n",
    ")\n",
    "\n",
    "# 获取色彩空间\n",
    "bt2020 = RGB_COLOURSPACES[\"ITU-R BT.2020\"]\n",
    "srgb = RGB_COLOURSPACES[\"sRGB\"]\n",
    "\n",
    "# 假设你有一个 BT.2020 的 RGB 向量\n",
    "rgb_bt2020 = np.array([0.3, 0.5, 0.7])\n",
    "\n",
    "# RGB (BT2020) → XYZ → Lab\n",
    "xyz_bt2020 = RGB_to_XYZ(rgb_bt2020, bt2020.whitepoint, bt2020.whitepoint, bt2020.matrix_RGB_to_XYZ)\n",
    "lab_bt2020 = XYZ_to_Lab(xyz_bt2020, bt2020.whitepoint)\n",
    "\n",
    "# 假设你有个目标 sRGB 向量，做同样转换\n",
    "rgb_srgb = np.array([0.25, 0.45, 0.65])\n",
    "xyz_srgb = RGB_to_XYZ(rgb_srgb, srgb.whitepoint, srgb.whitepoint, srgb.matrix_RGB_to_XYZ)\n",
    "lab_srgb = XYZ_to_Lab(xyz_srgb, srgb.whitepoint)\n",
    "\n",
    "# 计算视觉色差 ΔE\n",
    "delta_e = delta_E(lab_bt2020, lab_srgb, method='CIE 2000')  # 或 'CIE 2000'\n",
    "print(f\"RGB (BT.2020) to Lab: {lab_bt2020}\")\n",
    "print(f\"RGB (sRGB) to Lab: {lab_srgb}\")\n",
    "print(f\"Color difference ΔE: {delta_e:.4f}\")\n"
   ]
  },
  {
   "cell_type": "code",
   "execution_count": 5,
   "id": "fecde663",
   "metadata": {},
   "outputs": [
    {
     "name": "stdout",
     "output_type": "stream",
     "text": [
      "(1000, 3)\n",
      "507 / 1000 colors are in sRGB gamut.\n"
     ]
    }
   ],
   "source": [
    "import numpy as np\n",
    "import colour\n",
    "\n",
    "# 获取 BT.2020 色彩空间对象\n",
    "bt2020 = colour.RGB_COLOURSPACES['ITU-R BT.2020']\n",
    "srgb = colour.RGB_COLOURSPACES['sRGB']\n",
    "\n",
    "# 随机采样 RGB（属于 BT.2020 空间的 RGB 向量）\n",
    "rgb_bt2020 = np.random.rand(1000, 3)\n",
    "print(rgb_bt2020.shape)\n",
    "\n",
    "# 将 RGB（BT.2020）转换为 XYZ\n",
    "xyz_bt2020 = colour.RGB_to_XYZ(\n",
    "    rgb_bt2020,\n",
    "    bt2020.whitepoint,\n",
    "    bt2020.whitepoint,\n",
    "    bt2020.matrix_RGB_to_XYZ\n",
    ")\n",
    "\n",
    "\n",
    "# 将 XYZ 转换为 sRGB 空间的 RGB\n",
    "rgb_srgb = colour.XYZ_to_RGB(\n",
    "    xyz_bt2020,\n",
    "    srgb.whitepoint,\n",
    "    srgb.whitepoint,\n",
    "    srgb.matrix_XYZ_to_RGB\n",
    ")\n",
    "\n",
    "# 可选：裁剪到 sRGB 显示范围 [0, 1]\n",
    "rgb_srgb_clipped = np.clip(rgb_srgb, 0, 1)\n",
    "\n",
    "# 检查有多少点本来就在 sRGB 色域内\n",
    "in_gamut = np.all((rgb_srgb >= 0) & (rgb_srgb <= 1), axis=1)\n",
    "print(f\"{np.sum(in_gamut)} / {len(rgb_srgb)} colors are in sRGB gamut.\")\n"
   ]
  },
  {
   "cell_type": "code",
   "execution_count": 7,
   "id": "2cca4312",
   "metadata": {},
   "outputs": [
    {
     "name": "stderr",
     "output_type": "stream",
     "text": [
      "/home/flyingbucket/anaconda3/envs/colour/lib/python3.10/site-packages/colour/utilities/verbose.py:322: ColourUsageWarning: The \"colour.XYZ_to_RGB\" definition signature has changed with \"Colour 0.4.3\". The used call arguments are deprecated, please refer to the documentation for more information about the new signature.\n",
      "  warn(*args, **kwargs)  # noqa: B028\n"
     ]
    },
    {
     "name": "stdout",
     "output_type": "stream",
     "text": [
      "Optimization success: True\n",
      "Optimized matrix M:\n",
      "[[ 0.47155694  0.42455763  0.06634467]\n",
      " [-0.11529328  1.07962905  0.02347739]\n",
      " [-0.0279814   0.14570931  0.86850686]]\n"
     ]
    }
   ],
   "source": [
    "from scipy.optimize import minimize, LinearConstraint, Bounds, NonlinearConstraint\n",
    "\n",
    "def objective(M_flat):\n",
    "    M = M_flat.reshape(3, 3)\n",
    "    xyz_srgb = (M @ xyz_bt2020.T).T  # Apply M\n",
    "    rgb_srgb = colour.XYZ_to_RGB(\n",
    "        xyz_srgb,\n",
    "        srgb.whitepoint,\n",
    "        srgb.whitepoint,\n",
    "        srgb.matrix_XYZ_to_RGB\n",
    "    )\n",
    "    lab_target = colour.XYZ_to_Lab(xyz_bt2020)\n",
    "    lab_result = colour.XYZ_to_Lab(xyz_srgb)\n",
    "    delta_E = colour.delta_E(lab_target, lab_result, method='CIE 2000')\n",
    "    return np.mean(delta_E)\n",
    "\n",
    "def gamut_constraint(M_flat):\n",
    "    M = M_flat.reshape(3, 3)\n",
    "    xyz_srgb = (M @ xyz_bt2020.T).T\n",
    "    rgb_srgb = colour.XYZ_to_RGB(\n",
    "        xyz_srgb,\n",
    "        srgb.whitepoint,\n",
    "        srgb.whitepoint,\n",
    "        srgb.matrix_XYZ_to_RGB\n",
    "    )\n",
    "    # 返回距离越界的最小 margin（负数代表不合法）\n",
    "    return np.min(np.minimum(rgb_srgb, 1 - rgb_srgb))\n",
    "\n",
    "# 初始猜测为单位矩阵\n",
    "M0 = np.eye(3).flatten()\n",
    "\n",
    "# 非线性约束：所有 RGB 分量必须 ∈ [0, 1]\n",
    "nonlinear_constraint = NonlinearConstraint(gamut_constraint, 0, np.inf)\n",
    "\n",
    "result = minimize(objective, M0, constraints=[nonlinear_constraint])\n",
    "print(f\"Optimization success: {result.success}\")\n",
    "print(f\"Optimized matrix M:\\n{result.x.reshape(3, 3)}\")\n"
   ]
  },
  {
   "cell_type": "code",
   "execution_count": null,
   "id": "9a9720a3",
   "metadata": {},
   "outputs": [],
   "source": []
  }
 ],
 "metadata": {
  "kernelspec": {
   "display_name": "colour",
   "language": "python",
   "name": "python3"
  },
  "language_info": {
   "codemirror_mode": {
    "name": "ipython",
    "version": 3
   },
   "file_extension": ".py",
   "mimetype": "text/x-python",
   "name": "python",
   "nbconvert_exporter": "python",
   "pygments_lexer": "ipython3",
   "version": "3.10.17"
  }
 },
 "nbformat": 4,
 "nbformat_minor": 5
}
